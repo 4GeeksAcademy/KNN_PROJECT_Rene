{
    "cells": [
        {
            "cell_type": "markdown",
            "metadata": {},
            "source": [
                "# Explore here"
            ]
        },
        {
            "cell_type": "code",
            "execution_count": 2,
            "metadata": {},
            "outputs": [
                {
                    "name": "stdout",
                    "output_type": "stream",
                    "text": [
                        "Defaulting to user installation because normal site-packages is not writeable\n",
                        "Collecting pandas\n",
                        "  Using cached pandas-2.2.3-cp311-cp311-manylinux_2_17_x86_64.manylinux2014_x86_64.whl (13.1 MB)\n",
                        "Collecting numpy>=1.23.2 (from pandas)\n",
                        "  Using cached numpy-2.2.5-cp311-cp311-manylinux_2_17_x86_64.manylinux2014_x86_64.whl (16.4 MB)\n",
                        "Requirement already satisfied: python-dateutil>=2.8.2 in /home/vscode/.local/lib/python3.11/site-packages (from pandas) (2.9.0.post0)\n",
                        "Collecting pytz>=2020.1 (from pandas)\n",
                        "  Using cached pytz-2025.2-py2.py3-none-any.whl (509 kB)\n",
                        "Collecting tzdata>=2022.7 (from pandas)\n",
                        "  Using cached tzdata-2025.2-py2.py3-none-any.whl (347 kB)\n",
                        "Requirement already satisfied: six>=1.5 in /home/vscode/.local/lib/python3.11/site-packages (from python-dateutil>=2.8.2->pandas) (1.17.0)\n",
                        "Installing collected packages: pytz, tzdata, numpy, pandas\n",
                        "Successfully installed numpy-2.2.5 pandas-2.2.3 pytz-2025.2 tzdata-2025.2\n",
                        "\n",
                        "\u001b[1m[\u001b[0m\u001b[34;49mnotice\u001b[0m\u001b[1;39;49m]\u001b[0m\u001b[39;49m A new release of pip is available: \u001b[0m\u001b[31;49m23.1.2\u001b[0m\u001b[39;49m -> \u001b[0m\u001b[32;49m25.0.1\u001b[0m\n",
                        "\u001b[1m[\u001b[0m\u001b[34;49mnotice\u001b[0m\u001b[1;39;49m]\u001b[0m\u001b[39;49m To update, run: \u001b[0m\u001b[32;49mpip install --upgrade pip\u001b[0m\n",
                        "Note: you may need to restart the kernel to use updated packages.\n"
                    ]
                }
            ],
            "source": [
                "pip install pandas\n"
            ]
        },
        {
            "cell_type": "code",
            "execution_count": 4,
            "metadata": {},
            "outputs": [
                {
                    "name": "stdout",
                    "output_type": "stream",
                    "text": [
                        "   fixed acidity  volatile acidity  citric acid  residual sugar  chlorides  \\\n",
                        "0            7.4              0.70         0.00             1.9      0.076   \n",
                        "1            7.8              0.88         0.00             2.6      0.098   \n",
                        "2            7.8              0.76         0.04             2.3      0.092   \n",
                        "3           11.2              0.28         0.56             1.9      0.075   \n",
                        "4            7.4              0.70         0.00             1.9      0.076   \n",
                        "\n",
                        "   free sulfur dioxide  total sulfur dioxide  density    pH  sulphates  \\\n",
                        "0                 11.0                  34.0   0.9978  3.51       0.56   \n",
                        "1                 25.0                  67.0   0.9968  3.20       0.68   \n",
                        "2                 15.0                  54.0   0.9970  3.26       0.65   \n",
                        "3                 17.0                  60.0   0.9980  3.16       0.58   \n",
                        "4                 11.0                  34.0   0.9978  3.51       0.56   \n",
                        "\n",
                        "   alcohol  quality  \n",
                        "0      9.4        5  \n",
                        "1      9.8        5  \n",
                        "2      9.8        5  \n",
                        "3      9.8        6  \n",
                        "4      9.4        5  \n",
                        "\n",
                        "Información del dataset:\n",
                        "<class 'pandas.core.frame.DataFrame'>\n",
                        "RangeIndex: 1599 entries, 0 to 1598\n",
                        "Data columns (total 12 columns):\n",
                        " #   Column                Non-Null Count  Dtype  \n",
                        "---  ------                --------------  -----  \n",
                        " 0   fixed acidity         1599 non-null   float64\n",
                        " 1   volatile acidity      1599 non-null   float64\n",
                        " 2   citric acid           1599 non-null   float64\n",
                        " 3   residual sugar        1599 non-null   float64\n",
                        " 4   chlorides             1599 non-null   float64\n",
                        " 5   free sulfur dioxide   1599 non-null   float64\n",
                        " 6   total sulfur dioxide  1599 non-null   float64\n",
                        " 7   density               1599 non-null   float64\n",
                        " 8   pH                    1599 non-null   float64\n",
                        " 9   sulphates             1599 non-null   float64\n",
                        " 10  alcohol               1599 non-null   float64\n",
                        " 11  quality               1599 non-null   int64  \n",
                        "dtypes: float64(11), int64(1)\n",
                        "memory usage: 150.0 KB\n",
                        "None\n",
                        "\n",
                        "Descripción estadística:\n",
                        "       fixed acidity  volatile acidity  citric acid  residual sugar  \\\n",
                        "count    1599.000000       1599.000000  1599.000000     1599.000000   \n",
                        "mean        8.319637          0.527821     0.270976        2.538806   \n",
                        "std         1.741096          0.179060     0.194801        1.409928   \n",
                        "min         4.600000          0.120000     0.000000        0.900000   \n",
                        "25%         7.100000          0.390000     0.090000        1.900000   \n",
                        "50%         7.900000          0.520000     0.260000        2.200000   \n",
                        "75%         9.200000          0.640000     0.420000        2.600000   \n",
                        "max        15.900000          1.580000     1.000000       15.500000   \n",
                        "\n",
                        "         chlorides  free sulfur dioxide  total sulfur dioxide      density  \\\n",
                        "count  1599.000000          1599.000000           1599.000000  1599.000000   \n",
                        "mean      0.087467            15.874922             46.467792     0.996747   \n",
                        "std       0.047065            10.460157             32.895324     0.001887   \n",
                        "min       0.012000             1.000000              6.000000     0.990070   \n",
                        "25%       0.070000             7.000000             22.000000     0.995600   \n",
                        "50%       0.079000            14.000000             38.000000     0.996750   \n",
                        "75%       0.090000            21.000000             62.000000     0.997835   \n",
                        "max       0.611000            72.000000            289.000000     1.003690   \n",
                        "\n",
                        "                pH    sulphates      alcohol      quality  \n",
                        "count  1599.000000  1599.000000  1599.000000  1599.000000  \n",
                        "mean      3.311113     0.658149    10.422983     5.636023  \n",
                        "std       0.154386     0.169507     1.065668     0.807569  \n",
                        "min       2.740000     0.330000     8.400000     3.000000  \n",
                        "25%       3.210000     0.550000     9.500000     5.000000  \n",
                        "50%       3.310000     0.620000    10.200000     6.000000  \n",
                        "75%       3.400000     0.730000    11.100000     6.000000  \n",
                        "max       4.010000     2.000000    14.900000     8.000000  \n"
                    ]
                }
            ],
            "source": [
                "import pandas as pd\n",
                "\n",
                "# Cargar correctamente el CSV indicando el separador\n",
                "url = 'https://raw.githubusercontent.com/4GeeksAcademy/k-nearest-neighbors-project-tutorial/main/winequality-red.csv'\n",
                "df = pd.read_csv(url, sep=';')\n",
                "\n",
                "# Mostrar primeras filas\n",
                "print(df.head())\n",
                "\n",
                "# Información general\n",
                "print(\"\\nInformación del dataset:\")\n",
                "print(df.info())\n",
                "\n",
                "# Descripción estadística\n",
                "print(\"\\nDescripción estadística:\")\n",
                "print(df.describe())\n"
            ]
        },
        {
            "cell_type": "code",
            "execution_count": 5,
            "metadata": {},
            "outputs": [
                {
                    "name": "stdout",
                    "output_type": "stream",
                    "text": [
                        "Primeras filas de X (features):\n",
                        "   fixed acidity  volatile acidity  citric acid  residual sugar  chlorides  \\\n",
                        "0            7.4              0.70         0.00             1.9      0.076   \n",
                        "1            7.8              0.88         0.00             2.6      0.098   \n",
                        "2            7.8              0.76         0.04             2.3      0.092   \n",
                        "3           11.2              0.28         0.56             1.9      0.075   \n",
                        "4            7.4              0.70         0.00             1.9      0.076   \n",
                        "\n",
                        "   free sulfur dioxide  total sulfur dioxide  density    pH  sulphates  \\\n",
                        "0                 11.0                  34.0   0.9978  3.51       0.56   \n",
                        "1                 25.0                  67.0   0.9968  3.20       0.68   \n",
                        "2                 15.0                  54.0   0.9970  3.26       0.65   \n",
                        "3                 17.0                  60.0   0.9980  3.16       0.58   \n",
                        "4                 11.0                  34.0   0.9978  3.51       0.56   \n",
                        "\n",
                        "   alcohol  \n",
                        "0      9.4  \n",
                        "1      9.8  \n",
                        "2      9.8  \n",
                        "3      9.8  \n",
                        "4      9.4  \n",
                        "\n",
                        "Primeras filas de y (objetivo):\n",
                        "0    5\n",
                        "1    5\n",
                        "2    5\n",
                        "3    6\n",
                        "4    5\n",
                        "Name: quality, dtype: int64\n"
                    ]
                }
            ],
            "source": [
                "# Definir variables independientes (X) y variable dependiente (y)\n",
                "X = df.drop('quality', axis=1)\n",
                "y = df['quality']\n",
                "\n",
                "# Mostrar las primeras filas de X y y para revisar\n",
                "print(\"Primeras filas de X (features):\")\n",
                "print(X.head())\n",
                "\n",
                "print(\"\\nPrimeras filas de y (objetivo):\")\n",
                "print(y.head())\n"
            ]
        },
        {
            "cell_type": "code",
            "execution_count": 7,
            "metadata": {},
            "outputs": [
                {
                    "name": "stdout",
                    "output_type": "stream",
                    "text": [
                        "Defaulting to user installation because normal site-packages is not writeable\n",
                        "Collecting scikit-learn\n",
                        "  Using cached scikit_learn-1.6.1-cp311-cp311-manylinux_2_17_x86_64.manylinux2014_x86_64.whl (13.5 MB)\n",
                        "Requirement already satisfied: numpy>=1.19.5 in /home/vscode/.local/lib/python3.11/site-packages (from scikit-learn) (2.2.5)\n",
                        "Collecting scipy>=1.6.0 (from scikit-learn)\n",
                        "  Using cached scipy-1.15.2-cp311-cp311-manylinux_2_17_x86_64.manylinux2014_x86_64.whl (37.6 MB)\n",
                        "Collecting joblib>=1.2.0 (from scikit-learn)\n",
                        "  Using cached joblib-1.4.2-py3-none-any.whl (301 kB)\n",
                        "Collecting threadpoolctl>=3.1.0 (from scikit-learn)\n",
                        "  Using cached threadpoolctl-3.6.0-py3-none-any.whl (18 kB)\n",
                        "Installing collected packages: threadpoolctl, scipy, joblib, scikit-learn\n",
                        "Successfully installed joblib-1.4.2 scikit-learn-1.6.1 scipy-1.15.2 threadpoolctl-3.6.0\n",
                        "\n",
                        "\u001b[1m[\u001b[0m\u001b[34;49mnotice\u001b[0m\u001b[1;39;49m]\u001b[0m\u001b[39;49m A new release of pip is available: \u001b[0m\u001b[31;49m23.1.2\u001b[0m\u001b[39;49m -> \u001b[0m\u001b[32;49m25.0.1\u001b[0m\n",
                        "\u001b[1m[\u001b[0m\u001b[34;49mnotice\u001b[0m\u001b[1;39;49m]\u001b[0m\u001b[39;49m To update, run: \u001b[0m\u001b[32;49mpip install --upgrade pip\u001b[0m\n",
                        "Note: you may need to restart the kernel to use updated packages.\n"
                    ]
                }
            ],
            "source": [
                "pip install scikit-learn\n"
            ]
        },
        {
            "cell_type": "code",
            "execution_count": 8,
            "metadata": {},
            "outputs": [
                {
                    "name": "stdout",
                    "output_type": "stream",
                    "text": [
                        "Tamaño de X_train: (1279, 11)\n",
                        "Tamaño de X_test: (320, 11)\n",
                        "Tamaño de y_train: (1279,)\n",
                        "Tamaño de y_test: (320,)\n"
                    ]
                }
            ],
            "source": [
                "from sklearn.model_selection import train_test_split\n",
                "\n",
                "# División 80% entrenamiento, 20% prueba\n",
                "X_train, X_test, y_train, y_test = train_test_split(X, y, test_size=0.2, random_state=42)\n",
                "\n",
                "# Mostrar tamaños de cada conjunto\n",
                "print(f\"Tamaño de X_train: {X_train.shape}\")\n",
                "print(f\"Tamaño de X_test: {X_test.shape}\")\n",
                "print(f\"Tamaño de y_train: {y_train.shape}\")\n",
                "print(f\"Tamaño de y_test: {y_test.shape}\")\n"
            ]
        },
        {
            "cell_type": "code",
            "execution_count": 9,
            "metadata": {},
            "outputs": [
                {
                    "name": "stdout",
                    "output_type": "stream",
                    "text": [
                        "Primeras filas de X_train escalado:\n",
                        "[[ 0.21833164  0.88971201  0.19209222  0.30972563 -0.04964208  0.69100692\n",
                        "   1.04293362  1.84669643  1.09349989  0.45822284  1.12317723]\n",
                        " [-1.29016623 -1.78878251  0.65275338 -0.80507963 -0.45521361  2.38847304\n",
                        "   3.59387025 -3.00449133 -0.40043872 -0.40119696  1.40827174]\n",
                        " [ 1.49475291 -0.78434707  1.01104539 -0.52637831  0.59927236 -0.95796016\n",
                        "  -0.99174203  0.76865471 -0.07566946  0.51551749 -0.58738978]\n",
                        " [ 0.27635078  0.86181102 -0.06383064 -0.66572897 -0.00908493  0.01202048\n",
                        "  -0.71842739  0.08948842  0.05423824 -1.08873281 -0.96751578]\n",
                        " [ 0.04427419  2.81487994 -0.62686095  2.39998549 -0.31326357 -0.47296984\n",
                        "   0.2229897   1.1998714   0.37900751 -0.9741435  -0.49235828]]\n"
                    ]
                }
            ],
            "source": [
                "from sklearn.preprocessing import StandardScaler\n",
                "\n",
                "# Crear el escalador\n",
                "scaler = StandardScaler()\n",
                "\n",
                "# Ajustar el escalador SOLO al conjunto de entrenamiento y luego transformar ambos sets\n",
                "X_train_scaled = scaler.fit_transform(X_train)\n",
                "X_test_scaled = scaler.transform(X_test)\n",
                "\n",
                "# Mostrar para confirmar\n",
                "print(\"Primeras filas de X_train escalado:\")\n",
                "print(X_train_scaled[:5])\n"
            ]
        },
        {
            "cell_type": "code",
            "execution_count": 10,
            "metadata": {},
            "outputs": [
                {
                    "name": "stdout",
                    "output_type": "stream",
                    "text": [
                        "Accuracy: 0.546875\n",
                        "\n",
                        "Matriz de confusión:\n",
                        "[[ 0  0  0  1  0  0]\n",
                        " [ 0  0  4  6  0  0]\n",
                        " [ 0  2 88 40  0  0]\n",
                        " [ 1  0 49 72 10  0]\n",
                        " [ 0  0  7 20 15  0]\n",
                        " [ 0  0  1  1  3  0]]\n",
                        "\n",
                        "Reporte de clasificación:\n",
                        "              precision    recall  f1-score   support\n",
                        "\n",
                        "           3       0.00      0.00      0.00         1\n",
                        "           4       0.00      0.00      0.00        10\n",
                        "           5       0.59      0.68      0.63       130\n",
                        "           6       0.51      0.55      0.53       132\n",
                        "           7       0.54      0.36      0.43        42\n",
                        "           8       0.00      0.00      0.00         5\n",
                        "\n",
                        "    accuracy                           0.55       320\n",
                        "   macro avg       0.27      0.26      0.26       320\n",
                        "weighted avg       0.52      0.55      0.53       320\n",
                        "\n"
                    ]
                },
                {
                    "name": "stderr",
                    "output_type": "stream",
                    "text": [
                        "/home/vscode/.local/lib/python3.11/site-packages/sklearn/metrics/_classification.py:1565: UndefinedMetricWarning: Precision is ill-defined and being set to 0.0 in labels with no predicted samples. Use `zero_division` parameter to control this behavior.\n",
                        "  _warn_prf(average, modifier, f\"{metric.capitalize()} is\", len(result))\n",
                        "/home/vscode/.local/lib/python3.11/site-packages/sklearn/metrics/_classification.py:1565: UndefinedMetricWarning: Precision is ill-defined and being set to 0.0 in labels with no predicted samples. Use `zero_division` parameter to control this behavior.\n",
                        "  _warn_prf(average, modifier, f\"{metric.capitalize()} is\", len(result))\n",
                        "/home/vscode/.local/lib/python3.11/site-packages/sklearn/metrics/_classification.py:1565: UndefinedMetricWarning: Precision is ill-defined and being set to 0.0 in labels with no predicted samples. Use `zero_division` parameter to control this behavior.\n",
                        "  _warn_prf(average, modifier, f\"{metric.capitalize()} is\", len(result))\n"
                    ]
                }
            ],
            "source": [
                "from sklearn.neighbors import KNeighborsClassifier\n",
                "from sklearn.metrics import accuracy_score, confusion_matrix, classification_report\n",
                "\n",
                "# Crear el modelo KNN (k=5 inicial)\n",
                "knn = KNeighborsClassifier(n_neighbors=5)\n",
                "\n",
                "# Entrenar el modelo\n",
                "knn.fit(X_train_scaled, y_train)\n",
                "\n",
                "# Predecir en el conjunto de prueba\n",
                "y_pred = knn.predict(X_test_scaled)\n",
                "\n",
                "# Evaluar el rendimiento\n",
                "print(\"Accuracy:\", accuracy_score(y_test, y_pred))\n",
                "print(\"\\nMatriz de confusión:\")\n",
                "print(confusion_matrix(y_test, y_pred))\n",
                "print(\"\\nReporte de clasificación:\")\n",
                "print(classification_report(y_test, y_pred))\n"
            ]
        },
        {
            "cell_type": "code",
            "execution_count": 12,
            "metadata": {},
            "outputs": [
                {
                    "name": "stdout",
                    "output_type": "stream",
                    "text": [
                        "Defaulting to user installation because normal site-packages is not writeable\n",
                        "Collecting matplotlib\n",
                        "  Using cached matplotlib-3.10.1-cp311-cp311-manylinux_2_17_x86_64.manylinux2014_x86_64.whl (8.6 MB)\n",
                        "Collecting contourpy>=1.0.1 (from matplotlib)\n",
                        "  Using cached contourpy-1.3.2-cp311-cp311-manylinux_2_17_x86_64.manylinux2014_x86_64.whl (326 kB)\n",
                        "Collecting cycler>=0.10 (from matplotlib)\n",
                        "  Using cached cycler-0.12.1-py3-none-any.whl (8.3 kB)\n",
                        "Collecting fonttools>=4.22.0 (from matplotlib)\n",
                        "  Using cached fonttools-4.57.0-cp311-cp311-manylinux_2_17_x86_64.manylinux2014_x86_64.whl (4.9 MB)\n",
                        "Collecting kiwisolver>=1.3.1 (from matplotlib)\n",
                        "  Using cached kiwisolver-1.4.8-cp311-cp311-manylinux_2_17_x86_64.manylinux2014_x86_64.whl (1.4 MB)\n",
                        "Requirement already satisfied: numpy>=1.23 in /home/vscode/.local/lib/python3.11/site-packages (from matplotlib) (2.2.5)\n",
                        "Requirement already satisfied: packaging>=20.0 in /home/vscode/.local/lib/python3.11/site-packages (from matplotlib) (25.0)\n",
                        "Collecting pillow>=8 (from matplotlib)\n",
                        "  Using cached pillow-11.2.1-cp311-cp311-manylinux_2_28_x86_64.whl (4.6 MB)\n",
                        "Collecting pyparsing>=2.3.1 (from matplotlib)\n",
                        "  Using cached pyparsing-3.2.3-py3-none-any.whl (111 kB)\n",
                        "Requirement already satisfied: python-dateutil>=2.7 in /home/vscode/.local/lib/python3.11/site-packages (from matplotlib) (2.9.0.post0)\n",
                        "Requirement already satisfied: six>=1.5 in /home/vscode/.local/lib/python3.11/site-packages (from python-dateutil>=2.7->matplotlib) (1.17.0)\n",
                        "Installing collected packages: pyparsing, pillow, kiwisolver, fonttools, cycler, contourpy, matplotlib\n",
                        "Successfully installed contourpy-1.3.2 cycler-0.12.1 fonttools-4.57.0 kiwisolver-1.4.8 matplotlib-3.10.1 pillow-11.2.1 pyparsing-3.2.3\n",
                        "\n",
                        "\u001b[1m[\u001b[0m\u001b[34;49mnotice\u001b[0m\u001b[1;39;49m]\u001b[0m\u001b[39;49m A new release of pip is available: \u001b[0m\u001b[31;49m23.1.2\u001b[0m\u001b[39;49m -> \u001b[0m\u001b[32;49m25.0.1\u001b[0m\n",
                        "\u001b[1m[\u001b[0m\u001b[34;49mnotice\u001b[0m\u001b[1;39;49m]\u001b[0m\u001b[39;49m To update, run: \u001b[0m\u001b[32;49mpip install --upgrade pip\u001b[0m\n",
                        "Note: you may need to restart the kernel to use updated packages.\n"
                    ]
                }
            ],
            "source": [
                "pip install matplotlib\n"
            ]
        },
        {
            "cell_type": "code",
            "execution_count": 13,
            "metadata": {},
            "outputs": [
                {
                    "data": {
                        "image/png": "[encoded data removed]",
                        "text/plain": [
                            "<Figure size 1000x600 with 1 Axes>"
                        ]
                    },
                    "metadata": {},
                    "output_type": "display_data"
                }
            ],
            "source": [
                "import matplotlib.pyplot as plt\n",
                "\n",
                "# Probar k de 1 a 20\n",
                "k_values = list(range(1, 21))\n",
                "accuracies = []\n",
                "\n",
                "for k in k_values:\n",
                "    knn = KNeighborsClassifier(n_neighbors=k)\n",
                "    knn.fit(X_train_scaled, y_train)\n",
                "    y_pred = knn.predict(X_test_scaled)\n",
                "    acc = accuracy_score(y_test, y_pred)\n",
                "    accuracies.append(acc)\n",
                "\n",
                "# Graficar resultados\n",
                "plt.figure(figsize=(10,6))\n",
                "plt.plot(k_values, accuracies, marker='o')\n",
                "plt.title('Accuracy vs K en KNN')\n",
                "plt.xlabel('Número de vecinos (K)')\n",
                "plt.ylabel('Accuracy')\n",
                "plt.xticks(k_values)\n",
                "plt.grid(True)\n",
                "plt.show()\n"
            ]
        },
        {
            "cell_type": "markdown",
            "metadata": {},
            "source": [
                "Observaciones:\n",
                "\n",
                "El mejor accuracy (~62%) se logra con k = 1.\n",
                "\n",
                "A partir de k = 10 se mantiene relativamente estable (entre 55%-59%).\n",
                "\n",
                "Valores muy altos de k o k=2/3 bajan bastante el rendimiento."
            ]
        }
    ],
    "metadata": {
        "kernelspec": {
            "display_name": "Python 3",
            "language": "python",
            "name": "python3"
        },
        "language_info": {
            "codemirror_mode": {
                "name": "ipython",
                "version": 3
            },
            "file_extension": ".py",
            "mimetype": "text/x-python",
            "name": "python",
            "nbconvert_exporter": "python",
            "pygments_lexer": "ipython3",
            "version": "3.11.4"
        },
        "orig_nbformat": 4
    },
    "nbformat": 4,
    "nbformat_minor": 2
}
